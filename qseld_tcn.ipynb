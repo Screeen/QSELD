{
  "nbformat": 4,
  "nbformat_minor": 0,
  "metadata": {
    "colab": {
      "name": "qseld-tcn.ipynb",
      "provenance": [],
      "collapsed_sections": [],
      "toc_visible": true,
      "include_colab_link": true
    },
    "kernelspec": {
      "name": "python3",
      "display_name": "Python 3"
    },
    "accelerator": "GPU"
  },
  "cells": [
    {
      "cell_type": "markdown",
      "metadata": {
        "id": "view-in-github",
        "colab_type": "text"
      },
      "source": [
        "<a href=\"https://colab.research.google.com/github/Screeen/seld-net/blob/master/qseld_tcn.ipynb\" target=\"_parent\"><img src=\"https://colab.research.google.com/assets/colab-badge.svg\" alt=\"Open In Colab\"/></a>"
      ]
    },
    {
      "cell_type": "markdown",
      "metadata": {
        "id": "IjsOoE0OQcT-"
      },
      "source": [
        "# **QUATERNION SELD-TCN**"
      ]
    },
    {
      "cell_type": "markdown",
      "metadata": {
        "id": "iNUzL5u8Qv42"
      },
      "source": [
        "#### **Google drive mounting**\n"
      ]
    },
    {
      "cell_type": "code",
      "metadata": {
        "id": "ZXNZp8q43LkZ",
        "colab": {
          "base_uri": "https://localhost:8080/"
        },
        "outputId": "11c36563-b967-40b6-d591-d4e3c8937cd5"
      },
      "source": [
        "from google.colab import drive\n",
        "drive.mount('/content/drive')"
      ],
      "execution_count": null,
      "outputs": [
        {
          "output_type": "stream",
          "text": [
            "Mounted at /content/drive\n"
          ],
          "name": "stdout"
        }
      ]
    },
    {
      "cell_type": "markdown",
      "metadata": {
        "id": "Sv_GLXbvLTv5"
      },
      "source": [
        "#### **Requirements**"
      ]
    },
    {
      "cell_type": "code",
      "metadata": {
        "id": "wbtpJPu5FHMU",
        "colab": {
          "base_uri": "https://localhost:8080/"
        },
        "outputId": "bff6a0fe-45df-4555-9252-0482a815cdb8"
      },
      "source": [
        " import os.path\n",
        " projectFolder = os.path.join(\"Documents\", \"Sapienza uniroma\", \"QSELD-TCN project\")\n",
        " codeFolder = os.path.join(projectFolder, \"Code\")\n",
        " \n",
        " %cd $codeFolder\n",
        " !pip install -r requirements.txt\n",
        "\n"
      ],
      "execution_count": null,
      "outputs": [
        {
          "output_type": "stream",
          "text": [
            "Python 3.6.9\n",
            "[Errno 2] No such file or directory: 'Documents/Sapienza uniroma/QSELD-TCN project/Code'\n",
            "/content\n",
            "\u001b[31mERROR: Could not open requirements file: [Errno 2] No such file or directory: 'requirements.txt'\u001b[0m\n"
          ],
          "name": "stdout"
        }
      ]
    },
    {
      "cell_type": "code",
      "metadata": {
        "colab": {
          "base_uri": "https://localhost:8080/"
        },
        "id": "uPeGljfWvOwl",
        "outputId": "b920f0c4-6c16-4b36-e44a-f4c711c2f374"
      },
      "source": [
        "%%bash\n",
        "source env37/bin/activate\n",
        "cd ~\n",
        "cd $codeFolder\n",
        "python3 --version"
      ],
      "execution_count": null,
      "outputs": [
        {
          "output_type": "stream",
          "text": [
            "Python 3.7.9\n"
          ],
          "name": "stdout"
        }
      ]
    },
    {
      "cell_type": "code",
      "metadata": {
        "colab": {
          "base_uri": "https://localhost:8080/"
        },
        "id": "TxAGQMFPvrBa",
        "outputId": "02d86b69-3bc8-4b15-8692-548b07639bca"
      },
      "source": [
        "!python3 --version"
      ],
      "execution_count": null,
      "outputs": [
        {
          "output_type": "stream",
          "text": [
            "Python 3.8.5\r\n"
          ],
          "name": "stdout"
        }
      ]
    },
    {
      "cell_type": "markdown",
      "metadata": {
        "id": "X_4j_tvkRiTe"
      },
      "source": [
        "####**Extraction of the features**"
      ]
    },
    {
      "cell_type": "code",
      "metadata": {
        "id": "8ZcLohoI3TSS"
      },
      "source": [
        "%cd \"/content/drive/My Drive/QUATERNION_SELD_TCN/Code\"\n",
        "!python2 batch_feature_extraction.py"
      ],
      "execution_count": null,
      "outputs": []
    },
    {
      "cell_type": "markdown",
      "metadata": {
        "id": "oe8qTJ-oSACN"
      },
      "source": [
        "####**Training phase**"
      ]
    },
    {
      "cell_type": "code",
      "metadata": {
        "id": "fYHqy-ZlT6sL",
        "colab": {
          "base_uri": "https://localhost:8080/"
        },
        "outputId": "54b48373-9d6e-4153-eaba-26bace9b36e6"
      },
      "source": [
        "%cd \"/content/drive/My Drive/QUATERNION_SELD_TCN/Code\"\n",
        "!python seld.py"
      ],
      "execution_count": null,
      "outputs": [
        {
          "output_type": "stream",
          "text": [
            "[Errno 2] No such file or directory: '/content/drive/My Drive/QUATERNION_SELD_TCN/Code'\n",
            "/content\n",
            "python3: can't open file 'seld.py': [Errno 2] No such file or directory\n"
          ],
          "name": "stdout"
        }
      ]
    },
    {
      "cell_type": "markdown",
      "metadata": {
        "id": "xAMA7u9rPzJj"
      },
      "source": [
        "####  **Generate plots**"
      ]
    },
    {
      "cell_type": "code",
      "metadata": {
        "id": "9nwVycu5Pygb"
      },
      "source": [
        "%cd \"/content/drive/My Drive/QUATERNION_SELD_TCN/Code\"\n",
        "!mkdir \"plots\"\n",
        "!python simple_plotter.py \"models/foa_train[3, 4]_validation2_seq128_plot.csv\""
      ],
      "execution_count": null,
      "outputs": []
    },
    {
      "cell_type": "markdown",
      "metadata": {
        "id": "qQWdVza4o_2T"
      },
      "source": [
        "###**Test phase**\n"
      ]
    },
    {
      "cell_type": "code",
      "metadata": {
        "id": "GUW4ndPYo_aN"
      },
      "source": [
        "%cd \"/content/drive/My Drive/QUATERNION_SELD_TCN/Code\"\n",
        "!python seld_test.py"
      ],
      "execution_count": null,
      "outputs": []
    }
  ]
}