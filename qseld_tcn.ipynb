{
 "cells": [
  {
   "cell_type": "markdown",
   "metadata": {
    "colab_type": "text",
    "id": "view-in-github"
   },
   "source": [
    "<a href=\"https://colab.research.google.com/github/Screeen/seld-net/blob/master/qseld_tcn.ipynb\" target=\"_parent\"><img src=\"https://colab.research.google.com/assets/colab-badge.svg\" alt=\"Open In Colab\"/></a>"
   ]
  },
  {
   "cell_type": "markdown",
   "metadata": {
    "id": "IjsOoE0OQcT-"
   },
   "source": [
    "# **QUATERNION SELD-TCN**"
   ]
  },
  {
   "cell_type": "markdown",
   "metadata": {
    "id": "iNUzL5u8Qv42"
   },
   "source": [
    "#### **Google drive mounting**\n"
   ]
  },
  {
   "cell_type": "code",
   "execution_count": null,
   "metadata": {
    "colab": {
     "base_uri": "https://localhost:8080/"
    },
    "id": "ZXNZp8q43LkZ",
    "outputId": "11c36563-b967-40b6-d591-d4e3c8937cd5"
   },
   "outputs": [
    {
     "name": "stdout",
     "output_type": "stream",
     "text": [
      "Mounted at /content/drive\n"
     ]
    }
   ],
   "source": [
    "from google.colab import drive\n",
    "drive.mount('/content/drive')"
   ]
  },
  {
   "cell_type": "markdown",
   "metadata": {
    "id": "Sv_GLXbvLTv5"
   },
   "source": [
    "#### **Requirements**"
   ]
  },
  {
   "cell_type": "code",
   "execution_count": null,
   "metadata": {
    "colab": {
     "base_uri": "https://localhost:8080/"
    },
    "id": "wbtpJPu5FHMU",
    "outputId": "bff6a0fe-45df-4555-9252-0482a815cdb8"
   },
   "outputs": [
    {
     "name": "stdout",
     "output_type": "stream",
     "text": [
      "Python 3.6.9\n",
      "[Errno 2] No such file or directory: 'Documents/Sapienza uniroma/QSELD-TCN project/Code'\n",
      "/content\n",
      "\u001b[31mERROR: Could not open requirements file: [Errno 2] No such file or directory: 'requirements.txt'\u001b[0m\n"
     ]
    }
   ],
   "source": [
    " import os.path\n",
    " projectFolder = os.path.join(\"Documents\", \"Sapienza uniroma\", \"QSELD-TCN project\")\n",
    " codeFolder = os.path.join(projectFolder, \"Code\")\n",
    " \n",
    " %cd $codeFolder\n",
    " !pip install -r requirements.txt\n",
    "\n"
   ]
  },
  {
   "cell_type": "code",
   "execution_count": null,
   "metadata": {
    "colab": {
     "base_uri": "https://localhost:8080/"
    },
    "id": "uPeGljfWvOwl",
    "outputId": "b920f0c4-6c16-4b36-e44a-f4c711c2f374"
   },
   "outputs": [
    {
     "name": "stdout",
     "output_type": "stream",
     "text": [
      "Python 3.7.9\n"
     ]
    }
   ],
   "source": [
    "%%bash\n",
    "source env37/bin/activate\n",
    "cd ~\n",
    "cd $codeFolder\n",
    "python3 --version"
   ]
  },
  {
   "cell_type": "code",
   "execution_count": null,
   "metadata": {
    "colab": {
     "base_uri": "https://localhost:8080/"
    },
    "id": "TxAGQMFPvrBa",
    "outputId": "02d86b69-3bc8-4b15-8692-548b07639bca"
   },
   "outputs": [
    {
     "name": "stdout",
     "output_type": "stream",
     "text": [
      "Python 3.8.5\r\n"
     ]
    }
   ],
   "source": [
    "!python3 --version"
   ]
  },
  {
   "cell_type": "markdown",
   "metadata": {
    "id": "X_4j_tvkRiTe"
   },
   "source": [
    "####**Extraction of the features**"
   ]
  },
  {
   "cell_type": "code",
   "execution_count": null,
   "metadata": {
    "id": "8ZcLohoI3TSS"
   },
   "outputs": [],
   "source": [
    "%cd \"/content/drive/My Drive/QUATERNION_SELD_TCN/Code\"\n",
    "!python2 batch_feature_extraction.py"
   ]
  },
  {
   "cell_type": "markdown",
   "metadata": {
    "id": "oe8qTJ-oSACN"
   },
   "source": [
    "####**Training phase**"
   ]
  },
  {
   "cell_type": "code",
   "execution_count": null,
   "metadata": {
    "colab": {
     "base_uri": "https://localhost:8080/"
    },
    "id": "fYHqy-ZlT6sL",
    "outputId": "54b48373-9d6e-4153-eaba-26bace9b36e6"
   },
   "outputs": [
    {
     "name": "stdout",
     "output_type": "stream",
     "text": [
      "[Errno 2] No such file or directory: '/content/drive/My Drive/QUATERNION_SELD_TCN/Code'\n",
      "/content\n",
      "python3: can't open file 'seld.py': [Errno 2] No such file or directory\n"
     ]
    }
   ],
   "source": [
    "%cd \"/content/drive/My Drive/QUATERNION_SELD_TCN/Code\"\n",
    "!python seld.py"
   ]
  },
  {
   "cell_type": "markdown",
   "metadata": {
    "id": "xAMA7u9rPzJj"
   },
   "source": [
    "####  **Generate plots**"
   ]
  },
  {
   "cell_type": "code",
   "execution_count": null,
   "metadata": {
    "id": "9nwVycu5Pygb"
   },
   "outputs": [],
   "source": [
    "%cd \"/content/drive/My Drive/QUATERNION_SELD_TCN/Code\"\n",
    "!mkdir \"plots\"\n",
    "!python simple_plotter.py \"models/foa_train[3, 4]_validation2_seq128_plot.csv\""
   ]
  },
  {
   "cell_type": "markdown",
   "metadata": {
    "id": "qQWdVza4o_2T"
   },
   "source": [
    "###**Test phase**\n"
   ]
  },
  {
   "cell_type": "code",
   "execution_count": null,
   "metadata": {
    "id": "GUW4ndPYo_aN"
   },
   "outputs": [],
   "source": [
    "%cd \"/content/drive/My Drive/QUATERNION_SELD_TCN/Code\"\n",
    "!python seld_test.py"
   ]
  },
  {
   "cell_type": "code",
   "execution_count": 1,
   "metadata": {},
   "outputs": [
    {
     "name": "stdout",
     "output_type": "stream",
     "text": [
      "batch_feature_extraction.py  keras_model_giusenso.py  \u001b[0m\u001b[01;34mquaternion\u001b[0m/\r\n",
      "cls_data_generator.py        keras_model.py           README.md\r\n",
      "cls_feature_class.py         LICENSE.md               requirements.txt\r\n",
      "create_symlinks_datasets.py  parameter.py             seld.py\r\n",
      "evaluation_metrics.py        \u001b[01;34m__pycache__\u001b[0m/             utils.py\r\n",
      "\u001b[01;34mimages\u001b[0m/                      qseld_tcn.ipynb\r\n"
     ]
    }
   ],
   "source": [
    "ls"
   ]
  },
  {
   "cell_type": "code",
   "execution_count": null,
   "metadata": {},
   "outputs": [],
   "source": []
  }
 ],
 "metadata": {
  "accelerator": "GPU",
  "colab": {
   "collapsed_sections": [],
   "include_colab_link": true,
   "name": "qseld-tcn.ipynb",
   "provenance": [],
   "toc_visible": true
  },
  "kernelspec": {
   "display_name": "Python 3",
   "language": "python",
   "name": "python3"
  },
  "language_info": {
   "codemirror_mode": {
    "name": "ipython",
    "version": 3
   },
   "file_extension": ".py",
   "mimetype": "text/x-python",
   "name": "python",
   "nbconvert_exporter": "python",
   "pygments_lexer": "ipython3",
   "version": "3.8.8"
  }
 },
 "nbformat": 4,
 "nbformat_minor": 1
}
